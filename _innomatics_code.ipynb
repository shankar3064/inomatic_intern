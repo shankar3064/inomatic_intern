{
 "cells": [
  {
   "cell_type": "code",
   "execution_count": 1,
   "id": "2cc6d2c6",
   "metadata": {},
   "outputs": [
    {
     "name": "stdout",
     "output_type": "stream",
     "text": [
      "   movieId                    title  \\\n",
      "0        1         Toy Story (1995)   \n",
      "1        2           Jumanji (1995)   \n",
      "2        3  Grumpier Old Men (1995)   \n",
      "5        6              Heat (1995)   \n",
      "6        7           Sabrina (1995)   \n",
      "\n",
      "                                        genres  rating_count  rating_mean  \n",
      "0  Adventure|Animation|Children|Comedy|Fantasy           215     3.920930  \n",
      "1                   Adventure|Children|Fantasy           110     3.431818  \n",
      "2                               Comedy|Romance            52     3.259615  \n",
      "5                        Action|Crime|Thriller           102     3.946078  \n",
      "6                               Comedy|Romance            54     3.185185  \n"
     ]
    }
   ],
   "source": [
    "import pandas as pd\n",
    "\n",
    "# Load the datasets\n",
    "ratings_df = pd.read_csv('ratings.csv')\n",
    "movies_df = pd.read_csv('movies.csv')\n",
    "\n",
    "# 1. Group the user ratings based on movieId and apply aggregation operations\n",
    "ratings_grouped = ratings_df.groupby('movieId').agg({'rating': ['count', 'mean']})\n",
    "\n",
    "# Rename the columns for clarity\n",
    "ratings_grouped.columns = ['rating_count', 'rating_mean']\n",
    "\n",
    "# 2. Apply inner join on dataframe created from movies.csv and the grouped df from step 1\n",
    "merged_df = pd.merge(movies_df, ratings_grouped, how='inner', left_on='movieId', right_index=True)\n",
    "\n",
    "# 3. Filter only those movies which have more than 50 user ratings\n",
    "filtered_movies = merged_df[merged_df['rating_count'] > 50]\n",
    "\n",
    "# Display the resulting DataFrame\n",
    "print(filtered_movies.head())\n"
   ]
  },
  {
   "cell_type": "code",
   "execution_count": 2,
   "id": "acd8d721",
   "metadata": {},
   "outputs": [
    {
     "name": "stdout",
     "output_type": "stream",
     "text": [
      "Number of unique userId in ratings.csv: 610\n"
     ]
    }
   ],
   "source": [
    "unique_user_count = ratings_df['userId'].nunique()\n",
    "print(\"Number of unique userId in ratings.csv:\", unique_user_count)\n"
   ]
  },
  {
   "cell_type": "code",
   "execution_count": 3,
   "id": "308e748c",
   "metadata": {},
   "outputs": [
    {
     "name": "stdout",
     "output_type": "stream",
     "text": [
      "Movie with the maximum number of user ratings:\n",
      "                   title  rating_count\n",
      "314  Forrest Gump (1994)           329\n"
     ]
    }
   ],
   "source": [
    "# Find the movie with the maximum number of user ratings\n",
    "max_ratings_movie = filtered_movies[filtered_movies['rating_count'] == filtered_movies['rating_count'].max()]\n",
    "\n",
    "# Display the result\n",
    "print(\"Movie with the maximum number of user ratings:\")\n",
    "print(max_ratings_movie[['title', 'rating_count']])\n"
   ]
  },
  {
   "cell_type": "code",
   "execution_count": 4,
   "id": "d59f4ce9",
   "metadata": {},
   "outputs": [
    {
     "name": "stdout",
     "output_type": "stream",
     "text": [
      "Tags for 'Matrix, The (1999)':\n",
      "      userId                 tag\n",
      "815      424        martial arts\n",
      "816      424              sci-fi\n",
      "1646     474  alternate universe\n",
      "2794     537          philosophy\n",
      "2795     537    post apocalyptic\n"
     ]
    }
   ],
   "source": [
    "# Load the tags dataset\n",
    "tags_df = pd.read_csv('tags.csv')\n",
    "\n",
    "# Find the movieId for \"Matrix, The (1999)\"\n",
    "matrix_movie_id = movies_df[movies_df['title'] == 'Matrix, The (1999)']['movieId'].values[0]\n",
    "\n",
    "# Filter tags for the specific movieId\n",
    "matrix_tags = tags_df[tags_df['movieId'] == matrix_movie_id]\n",
    "\n",
    "# Display the result\n",
    "print(\"Tags for 'Matrix, The (1999)':\")\n",
    "print(matrix_tags[['userId', 'tag']])\n"
   ]
  },
  {
   "cell_type": "code",
   "execution_count": 6,
   "id": "7480dbcb",
   "metadata": {},
   "outputs": [
    {
     "name": "stdout",
     "output_type": "stream",
     "text": [
      "Average user rating for 'Terminator 2: Judgment Day (1991)': 3.970982142857143\n"
     ]
    }
   ],
   "source": [
    "# Find the movieId for \"Terminator 2: Judgment Day (1991)\"\n",
    "terminator_movie_id = movies_df[movies_df['title'] == 'Terminator 2: Judgment Day (1991)']['movieId'].values[0]\n",
    "\n",
    "# Filter the ratings for the specific movieId\n",
    "terminator_ratings = ratings_df[ratings_df['movieId'] == terminator_movie_id]\n",
    "\n",
    "# Calculate the average user rating\n",
    "average_rating = terminator_ratings['rating'].mean()\n",
    "\n",
    "# Display the result\n",
    "print(\"Average user rating for 'Terminator 2: Judgment Day (1991)':\", average_rating)\n"
   ]
  },
  {
   "cell_type": "code",
   "execution_count": 7,
   "id": "e1f96517",
   "metadata": {},
   "outputs": [
    {
     "data": {
      "image/png": "[encoded data removed]",
      "text/plain": [
       "<Figure size 1000x600 with 1 Axes>"
      ]
     },
     "metadata": {},
     "output_type": "display_data"
    }
   ],
   "source": [
    "import matplotlib.pyplot as plt\n",
    "\n",
    "# Find the movieId for \"Fight Club (1999)\"\n",
    "fight_club_movie_id = movies_df[movies_df['title'] == 'Fight Club (1999)']['movieId'].values[0]\n",
    "\n",
    "# Filter the ratings for the specific movieId\n",
    "fight_club_ratings = ratings_df[ratings_df['movieId'] == fight_club_movie_id]\n",
    "\n",
    "# Plot the histogram\n",
    "plt.figure(figsize=(10, 6))\n",
    "plt.hist(fight_club_ratings['rating'], bins=9, edgecolor='black', alpha=0.7)\n",
    "plt.title('User Ratings Distribution for \"Fight Club (1999)\"')\n",
    "plt.xlabel('Rating')\n",
    "plt.ylabel('Number of Ratings')\n",
    "plt.grid(axis='y', linestyle='--', alpha=0.7)\n",
    "\n",
    "# Display the plot\n",
    "plt.show()\n"
   ]
  },
  {
   "cell_type": "code",
   "execution_count": 8,
   "id": "10356d5c",
   "metadata": {},
   "outputs": [
    {
     "name": "stdout",
     "output_type": "stream",
     "text": [
      "Most Popular Movie based on Average User Ratings:\n",
      "                                title  rating_mean\n",
      "277  Shawshank Redemption, The (1994)     4.429022\n"
     ]
    }
   ],
   "source": [
    "# Find the movie with the highest average user rating\n",
    "most_popular_movie = filtered_movies[filtered_movies['rating_mean'] == filtered_movies['rating_mean'].max()]\n",
    "\n",
    "# Display the result\n",
    "print(\"Most Popular Movie based on Average User Ratings:\")\n",
    "print(most_popular_movie[['title', 'rating_mean']])\n"
   ]
  },
  {
   "cell_type": "code",
   "execution_count": 9,
   "id": "18606acc",
   "metadata": {},
   "outputs": [
    {
     "name": "stdout",
     "output_type": "stream",
     "text": [
      "Top 5 Popular Movies based on Number of User Ratings:\n",
      "                                 title  rating_count\n",
      "314                Forrest Gump (1994)           329\n",
      "277   Shawshank Redemption, The (1994)           317\n",
      "257                Pulp Fiction (1994)           307\n",
      "510   Silence of the Lambs, The (1991)           279\n",
      "1939                Matrix, The (1999)           278\n"
     ]
    }
   ],
   "source": [
    "# Sort the filtered_movies DataFrame by rating_count in descending order\n",
    "top5_popular_movies = filtered_movies.sort_values(by='rating_count', ascending=False).head(5)\n",
    "\n",
    "# Display the result\n",
    "print(\"Top 5 Popular Movies based on Number of User Ratings:\")\n",
    "print(top5_popular_movies[['title', 'rating_count']])\n"
   ]
  },
  {
   "cell_type": "code",
   "execution_count": 10,
   "id": "4fcd5a1f",
   "metadata": {},
   "outputs": [
    {
     "name": "stdout",
     "output_type": "stream",
     "text": [
      "Third Most Popular Sci-Fi Movie based on Number of User Ratings:\n",
      "title           Jurassic Park (1993)\n",
      "rating_count                     238\n",
      "Name: 418, dtype: object\n"
     ]
    }
   ],
   "source": [
    "# Filter Sci-Fi movies from the filtered_movies DataFrame\n",
    "sci_fi_movies = filtered_movies[filtered_movies['genres'].str.contains('Sci-Fi')]\n",
    "\n",
    "# Sort Sci-Fi movies by rating_count in descending order\n",
    "sorted_sci_fi_movies = sci_fi_movies.sort_values(by='rating_count', ascending=False)\n",
    "\n",
    "# Select the third most popular Sci-Fi movie\n",
    "third_most_popular_sci_fi_movie = sorted_sci_fi_movies.iloc[2]\n",
    "\n",
    "# Display the result\n",
    "print(\"Third Most Popular Sci-Fi Movie based on Number of User Ratings:\")\n",
    "print(third_most_popular_sci_fi_movie[['title', 'rating_count']])\n"
   ]
  },
  {
   "cell_type": "code",
   "execution_count": 11,
   "id": "4b34aa04",
   "metadata": {},
   "outputs": [
    {
     "name": "stdout",
     "output_type": "stream",
     "text": [
      "   movieId                               title  \\\n",
      "0        1                    Toy Story (1995)   \n",
      "1        2                      Jumanji (1995)   \n",
      "2        3             Grumpier Old Men (1995)   \n",
      "3        4            Waiting to Exhale (1995)   \n",
      "4        5  Father of the Bride Part II (1995)   \n",
      "\n",
      "                                        genres  \n",
      "0  Adventure|Animation|Children|Comedy|Fantasy  \n",
      "1                   Adventure|Children|Fantasy  \n",
      "2                               Comedy|Romance  \n",
      "3                         Comedy|Drama|Romance  \n",
      "4                                       Comedy  \n"
     ]
    }
   ],
   "source": [
    "import pandas as pd\n",
    "\n",
    "# Load the movies.csv file into a DataFrame\n",
    "movies_df = pd.read_csv('movies.csv')\n",
    "\n",
    "# Display the first few rows of the DataFrame\n",
    "print(movies_df.head())\n"
   ]
  },
  {
   "cell_type": "code",
   "execution_count": null,
   "id": "a693958a",
   "metadata": {},
   "outputs": [],
   "source": []
  }
 ],
 "metadata": {
  "kernelspec": {
   "display_name": "Python 3 (ipykernel)",
   "language": "python",
   "name": "python3"
  },
  "language_info": {
   "codemirror_mode": {
    "name": "ipython",
    "version": 3
   },
   "file_extension": ".py",
   "mimetype": "text/x-python",
   "name": "python",
   "nbconvert_exporter": "python",
   "pygments_lexer": "ipython3",
   "version": "3.11.3"
  }
 },
 "nbformat": 4,
 "nbformat_minor": 5
}
